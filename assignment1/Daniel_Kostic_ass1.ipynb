{
 "cells": [
  {
   "cell_type": "markdown",
   "metadata": {},
   "source": [
    "## Student: Daniel Kostic"
   ]
  },
  {
   "cell_type": "markdown",
   "metadata": {},
   "source": [
    "# Assignment 1\n",
    "\n",
    "Please, answer the question by entering runable python code into the cells. Add comments at the beginning of each cell which list the packages that need to be installed (e.g., pip install collections). Run the code so that the output is visible in the notbook before you submit. The data files which you download should lie in the same directory as the python notebooks (use relative paths!). Use python 3.\n",
    "\n",
    "\n",
    "Submit the notebook (as .ipynb and .pdf) via email to clwagner@uni-koblenz.de until <font color=\"red\">8.5.2017 (midnight CET)</font>.\n",
    "Subject of email: \"CSS2017 ass 1\"\n",
    "\n",
    "Filename: firstname_lastname_ass1.ipynb \n",
    "\n",
    "\n",
    "## Analyzing Affiliation Networks and Social Networks (15 Points)\n",
    "\n",
    "Download the following 2 datasets about the location-based social networking service Brightkite: http://snap.stanford.edu/data/loc-brightkite.html\n",
    "\n",
    "One of the dataset contains all checkins between April 2008 and October 2010 (4.5 Mio checkins).\n",
    "\n",
    "Beside the checkin data that constitute an affiliation network (two-mode network of users and locations), there is also a social network included  - i.e., a one-mode netowkr of users. It is an undirected one-mode network.\n",
    "\n"
   ]
  },
  {
   "cell_type": "code",
   "execution_count": 1,
   "metadata": {
    "collapsed": true
   },
   "outputs": [],
   "source": [
    "# Required packages: pandas, numpy, matplotlib, networkx"
   ]
  },
  {
   "cell_type": "code",
   "execution_count": 2,
   "metadata": {
    "collapsed": true
   },
   "outputs": [],
   "source": [
    "import pandas as pd\n",
    "import numpy as np\n",
    "import matplotlib.pyplot as plt\n",
    "from scipy.stats import describe\n",
    "import networkx as nx\n",
    "edges = pd.read_csv(\"Brightkite_edges.txt\", sep=\"\\t\", names=['node1', 'node2'])\n",
    "checkIns = pd.read_csv(\"Brightkite_totalCheckins.txt\", sep=\"\\t\", names=['user', 'time', 'lat', 'lon', 'locId'])"
   ]
  },
  {
   "cell_type": "markdown",
   "metadata": {},
   "source": [
    "### Data preview"
   ]
  },
  {
   "cell_type": "code",
   "execution_count": 3,
   "metadata": {},
   "outputs": [
    {
     "data": {
      "text/html": [
       "<div>\n",
       "<table border=\"1\" class=\"dataframe\">\n",
       "  <thead>\n",
       "    <tr style=\"text-align: right;\">\n",
       "      <th></th>\n",
       "      <th>node1</th>\n",
       "      <th>node2</th>\n",
       "    </tr>\n",
       "  </thead>\n",
       "  <tbody>\n",
       "    <tr>\n",
       "      <th>124700</th>\n",
       "      <td>3712</td>\n",
       "      <td>13809</td>\n",
       "    </tr>\n",
       "    <tr>\n",
       "      <th>284856</th>\n",
       "      <td>15498</td>\n",
       "      <td>9477</td>\n",
       "    </tr>\n",
       "    <tr>\n",
       "      <th>187127</th>\n",
       "      <td>7508</td>\n",
       "      <td>158</td>\n",
       "    </tr>\n",
       "    <tr>\n",
       "      <th>344330</th>\n",
       "      <td>25665</td>\n",
       "      <td>23141</td>\n",
       "    </tr>\n",
       "    <tr>\n",
       "      <th>179568</th>\n",
       "      <td>6991</td>\n",
       "      <td>20767</td>\n",
       "    </tr>\n",
       "  </tbody>\n",
       "</table>\n",
       "</div>"
      ],
      "text/plain": [
       "        node1  node2\n",
       "124700   3712  13809\n",
       "284856  15498   9477\n",
       "187127   7508    158\n",
       "344330  25665  23141\n",
       "179568   6991  20767"
      ]
     },
     "execution_count": 3,
     "metadata": {},
     "output_type": "execute_result"
    }
   ],
   "source": [
    "edges.sample(5)"
   ]
  },
  {
   "cell_type": "code",
   "execution_count": 4,
   "metadata": {},
   "outputs": [
    {
     "data": {
      "text/html": [
       "<div>\n",
       "<table border=\"1\" class=\"dataframe\">\n",
       "  <thead>\n",
       "    <tr style=\"text-align: right;\">\n",
       "      <th></th>\n",
       "      <th>user</th>\n",
       "      <th>time</th>\n",
       "      <th>lat</th>\n",
       "      <th>lon</th>\n",
       "      <th>locId</th>\n",
       "    </tr>\n",
       "  </thead>\n",
       "  <tbody>\n",
       "    <tr>\n",
       "      <th>3979647</th>\n",
       "      <td>27250</td>\n",
       "      <td>2010-06-28T17:07:59Z</td>\n",
       "      <td>0.000000</td>\n",
       "      <td>0.000000</td>\n",
       "      <td>00000000000000000000000000000000</td>\n",
       "    </tr>\n",
       "    <tr>\n",
       "      <th>323740</th>\n",
       "      <td>658</td>\n",
       "      <td>2009-07-04T23:24:36Z</td>\n",
       "      <td>38.881396</td>\n",
       "      <td>-94.819129</td>\n",
       "      <td>eb802398a22411dd963663f5d9524050</td>\n",
       "    </tr>\n",
       "    <tr>\n",
       "      <th>4037860</th>\n",
       "      <td>28561</td>\n",
       "      <td>2009-10-29T23:54:01Z</td>\n",
       "      <td>40.768950</td>\n",
       "      <td>-74.019730</td>\n",
       "      <td>bd1f74bb71d092534c54652ffaf36810</td>\n",
       "    </tr>\n",
       "    <tr>\n",
       "      <th>89456</th>\n",
       "      <td>153</td>\n",
       "      <td>2010-01-10T15:33:36Z</td>\n",
       "      <td>39.640264</td>\n",
       "      <td>-106.374195</td>\n",
       "      <td>ee8ff37ea22411dd9cc0ab0334e8bcd4</td>\n",
       "    </tr>\n",
       "    <tr>\n",
       "      <th>4467298</th>\n",
       "      <td>41604</td>\n",
       "      <td>2010-08-14T11:23:09Z</td>\n",
       "      <td>41.850033</td>\n",
       "      <td>-87.650052</td>\n",
       "      <td>ed58942aa22411dd96ff97a15c29d430</td>\n",
       "    </tr>\n",
       "  </tbody>\n",
       "</table>\n",
       "</div>"
      ],
      "text/plain": [
       "          user                  time        lat         lon  \\\n",
       "3979647  27250  2010-06-28T17:07:59Z   0.000000    0.000000   \n",
       "323740     658  2009-07-04T23:24:36Z  38.881396  -94.819129   \n",
       "4037860  28561  2009-10-29T23:54:01Z  40.768950  -74.019730   \n",
       "89456      153  2010-01-10T15:33:36Z  39.640264 -106.374195   \n",
       "4467298  41604  2010-08-14T11:23:09Z  41.850033  -87.650052   \n",
       "\n",
       "                                    locId  \n",
       "3979647  00000000000000000000000000000000  \n",
       "323740   eb802398a22411dd963663f5d9524050  \n",
       "4037860  bd1f74bb71d092534c54652ffaf36810  \n",
       "89456    ee8ff37ea22411dd9cc0ab0334e8bcd4  \n",
       "4467298  ed58942aa22411dd96ff97a15c29d430  "
      ]
     },
     "execution_count": 4,
     "metadata": {},
     "output_type": "execute_result"
    }
   ],
   "source": [
    "checkIns.sample(5)"
   ]
  },
  {
   "cell_type": "markdown",
   "metadata": {},
   "source": [
    "#### Location Popularity\n",
    "\n",
    "Count the number of distinct brightkite users who checked-in at each location (using python!). What are the top 10 locations---i.e., the locations where most users checked in? Plot the rank ordered frequency distributions of locations (x-axis: locations ranked by the number of distinct users, y-axis: number of distinct users). <font color=\"red\">(2 Points)</font>\n"
   ]
  },
  {
   "cell_type": "markdown",
   "metadata": {
    "collapsed": true
   },
   "source": [
    "##### Grouping data by location and displaying the count of unique users who visited a location"
   ]
  },
  {
   "cell_type": "code",
   "execution_count": 5,
   "metadata": {},
   "outputs": [
    {
     "data": {
      "text/plain": [
       "locId\n",
       "00000000000000000000000000000000    3204\n",
       "ee81ef22a22411ddb5e97f082c799f59    1437\n",
       "ede07eeea22411dda0ef53e233ec57ca    1199\n",
       "ee8b1d0ea22411ddb074dbd65f1665cf     983\n",
       "ee78cc1ca22411dd9b3d576115a846a7     846\n",
       "eefadd1aa22411ddb0fd7f1c9c809c0c     811\n",
       "d12e8e8aa22411dd90196fa5c210e3cc     779\n",
       "b9d89b5ea22411dda5ef27ee20f87cee     728\n",
       "ed58942aa22411dd96ff97a15c29d430     710\n",
       "b9c114f2a22411dda217eb3127033598     576\n",
       "Name: user, dtype: int64"
      ]
     },
     "execution_count": 5,
     "metadata": {},
     "output_type": "execute_result"
    }
   ],
   "source": [
    "grpLoc = checkIns.groupby('locId').user.nunique()\n",
    "grpLoc.sort_values(ascending=False, inplace=True)\n",
    "grpLoc.head(10)"
   ]
  },
  {
   "cell_type": "code",
   "execution_count": 6,
   "metadata": {},
   "outputs": [
    {
     "data": {
      "image/png": "[encoded data removed]",
      "text/plain": [
       "<matplotlib.figure.Figure at 0x18376ff79b0>"
      ]
     },
     "metadata": {},
     "output_type": "display_data"
    }
   ],
   "source": [
    "plt.plot([i for i in range(1,len(grpLoc)+1)], list(grpLoc), 'b-')\n",
    "plt.title('Location popularity')\n",
    "plt.ylabel('Number of users in a location')\n",
    "plt.xlabel('Location rank')\n",
    "plt.xscale('log')\n",
    "plt.axis([0, 1000000, 0, 3300])\n",
    "plt.show()"
   ]
  },
  {
   "cell_type": "code",
   "execution_count": 7,
   "metadata": {},
   "outputs": [
    {
     "data": {
      "image/png": "[encoded data removed]",
      "text/plain": [
       "<matplotlib.figure.Figure at 0x183720536d8>"
      ]
     },
     "metadata": {},
     "output_type": "display_data"
    }
   ],
   "source": [
    "plt.bar([i for i in range(1,11)], list(grpLoc)[:10])\n",
    "plt.title('Top 10 most visited locations')\n",
    "plt.ylabel('Number of users in a location')\n",
    "plt.xlabel('Location rank')\n",
    "plt.xticks(list(range(1,11)), list(grpLoc)[:10])\n",
    "# plt.xticks(rotation=90)\n",
    "plt.show()"
   ]
  },
  {
   "cell_type": "markdown",
   "metadata": {},
   "source": [
    "#### Fold Location-User Network\n",
    "\n",
    "Construct an unweighted and undirected two-mode network of brightkite users and locations. A user and a location are connected if the user checked-in at the location at least once. Compute the degree of each location in the two-mode network and list the top 10 location-ids with their corresponding degree. Make a plot that shows the ranked locations (x-axis) and their degree (y-axis).\n",
    "\n",
    "Fold the two-mode network and construct a location network. Since folding the full network is very slow, select only locations where at least 10 users checked in.\n",
    "\n",
    "What are the most central locations in the one-mode network and what does that mean? \n",
    "Use different centrality measures and order nodes by these centralities and print the top 10 nodes for each measure. Discuss for each centrality measure what it does and how you can interpret the results. For example, what does it mean that location X has the highest betweeness centrality? How is location X different from location Y which has the highest degree centrality?\n",
    "<font color=\"red\">(3 Points)</font>"
   ]
  },
  {
   "cell_type": "code",
   "execution_count": 8,
   "metadata": {},
   "outputs": [
    {
     "name": "stdout",
     "output_type": "stream",
     "text": [
      "Checkins shape (4747287, 5)\n",
      "Number of duplicate entries (3671116, 5)\n"
     ]
    }
   ],
   "source": [
    "print(\"Checkins shape {}\".format(checkIns.shape))\n",
    "print(\"Number of duplicate entries {}\".format(checkIns[checkIns.duplicated(subset=['user', 'locId'], keep='first')].shape))"
   ]
  },
  {
   "cell_type": "code",
   "execution_count": 9,
   "metadata": {
    "collapsed": true
   },
   "outputs": [],
   "source": [
    "locUsrNtwrk = nx.from_pandas_dataframe(checkIns[['user', 'locId']], source='user', target='locId')"
   ]
  },
  {
   "cell_type": "code",
   "execution_count": 10,
   "metadata": {},
   "outputs": [
    {
     "name": "stdout",
     "output_type": "stream",
     "text": [
      "Number of edges: 1076171\n",
      "Number of nodes: 824373\n",
      "Graph is bipartite?: True\n",
      "Graph is connected?: False\n",
      "Graph is directed?: False\n"
     ]
    }
   ],
   "source": [
    "print(\"Number of edges: {}\".format(nx.number_of_edges(locUsrNtwrk)))\n",
    "print(\"Number of nodes: {}\".format(nx.number_of_nodes(locUsrNtwrk)))\n",
    "print(\"Graph is bipartite?: {}\".format(nx.is_bipartite(locUsrNtwrk)))\n",
    "print(\"Graph is connected?: {}\".format(nx.is_connected(locUsrNtwrk)))\n",
    "print(\"Graph is directed?: {}\".format(nx.is_connected(locUsrNtwrk)))"
   ]
  },
  {
   "cell_type": "markdown",
   "metadata": {
    "collapsed": true
   },
   "source": [
    "##### Degrees of the top 10 nodes"
   ]
  },
  {
   "cell_type": "code",
   "execution_count": 11,
   "metadata": {},
   "outputs": [
    {
     "data": {
      "text/plain": [
       "[('00000000000000000000000000000000', 3204),\n",
       " ('ee81ef22a22411ddb5e97f082c799f59', 1437),\n",
       " ('ede07eeea22411dda0ef53e233ec57ca', 1199),\n",
       " ('ee8b1d0ea22411ddb074dbd65f1665cf', 983),\n",
       " ('ee78cc1ca22411dd9b3d576115a846a7', 846),\n",
       " ('eefadd1aa22411ddb0fd7f1c9c809c0c', 811),\n",
       " ('d12e8e8aa22411dd90196fa5c210e3cc', 779),\n",
       " ('b9d89b5ea22411dda5ef27ee20f87cee', 728),\n",
       " ('ed58942aa22411dd96ff97a15c29d430', 710),\n",
       " ('b9c114f2a22411dda217eb3127033598', 576)]"
      ]
     },
     "execution_count": 11,
     "metadata": {},
     "output_type": "execute_result"
    }
   ],
   "source": [
    "degrees = locUsrNtwrk.degree(checkIns['locId'].unique())\n",
    "degreesSorted = sorted(degrees.items(), key=lambda x: x[1], reverse=True)\n",
    "degreesSorted[:10]"
   ]
  },
  {
   "cell_type": "code",
   "execution_count": 12,
   "metadata": {
    "collapsed": true
   },
   "outputs": [],
   "source": [
    "degreesSortedList = [i[1] for i in degreesSorted]"
   ]
  },
  {
   "cell_type": "code",
   "execution_count": 13,
   "metadata": {},
   "outputs": [
    {
     "data": {
      "image/png": "[encoded data removed]",
      "text/plain": [
       "<matplotlib.figure.Figure at 0x18301e97f28>"
      ]
     },
     "metadata": {},
     "output_type": "display_data"
    }
   ],
   "source": [
    "plt.plot([i for i in range(1, len(degreesSortedList)+1)],degreesSortedList)\n",
    "plt.title('Location popularity')\n",
    "plt.ylabel('Number of users in a location')\n",
    "plt.xlabel('Location rank')\n",
    "plt.xscale('log')\n",
    "plt.axis([0, 1000000, 0, 3400])\n",
    "plt.show()"
   ]
  },
  {
   "cell_type": "markdown",
   "metadata": {},
   "source": [
    "##### Folding the network\n",
    "##### To reduce the time needed to create the network and calculate centrality measures only locations with over 15 users were used"
   ]
  },
  {
   "cell_type": "code",
   "execution_count": 14,
   "metadata": {
    "collapsed": true
   },
   "outputs": [],
   "source": [
    "overFifteen = [i[0] for i in degreesSorted if i[1]>=15]"
   ]
  },
  {
   "cell_type": "code",
   "execution_count": 15,
   "metadata": {},
   "outputs": [
    {
     "name": "stdout",
     "output_type": "stream",
     "text": [
      "Number of locations with over fifteen users is 2661\n"
     ]
    }
   ],
   "source": [
    "print(\"Number of locations with over fifteen users is {}\".format(len(overFifteen)))"
   ]
  },
  {
   "cell_type": "code",
   "execution_count": 16,
   "metadata": {
    "collapsed": true
   },
   "outputs": [],
   "source": [
    "smallerNetwork = nx.from_pandas_dataframe(checkIns[checkIns['locId'].isin(overFifteen)][['user', 'locId']], \n",
    "                                          source='user', target='locId')"
   ]
  },
  {
   "cell_type": "code",
   "execution_count": 17,
   "metadata": {},
   "outputs": [
    {
     "name": "stdout",
     "output_type": "stream",
     "text": [
      "Size of the network before folding is 35274 of nodes.\n"
     ]
    }
   ],
   "source": [
    "print(\"Size of the network before folding is {} of nodes.\".format(smallerNetwork.number_of_nodes()))"
   ]
  },
  {
   "cell_type": "code",
   "execution_count": 18,
   "metadata": {
    "collapsed": true
   },
   "outputs": [],
   "source": [
    "foldedSmall = nx.projected_graph(smallerNetwork, overFifteen)"
   ]
  },
  {
   "cell_type": "code",
   "execution_count": 19,
   "metadata": {},
   "outputs": [
    {
     "name": "stdout",
     "output_type": "stream",
     "text": [
      "Size of the network before folding is 2661 of nodes.\n"
     ]
    }
   ],
   "source": [
    "print(\"Size of the network before folding is {} of nodes.\".format(foldedSmall.number_of_nodes()))"
   ]
  },
  {
   "cell_type": "markdown",
   "metadata": {},
   "source": [
    "Degree centrality"
   ]
  },
  {
   "cell_type": "code",
   "execution_count": 25,
   "metadata": {
    "collapsed": true
   },
   "outputs": [],
   "source": [
    "deg_cent = nx.degree_centrality(foldedSmall)"
   ]
  },
  {
   "cell_type": "code",
   "execution_count": 26,
   "metadata": {},
   "outputs": [
    {
     "data": {
      "text/plain": [
       "[('00000000000000000000000000000000', 0.8759398496240602),\n",
       " ('ee81ef22a22411ddb5e97f082c799f59', 0.7875939849624061),\n",
       " ('ede07eeea22411dda0ef53e233ec57ca', 0.7285714285714286),\n",
       " ('ee8b1d0ea22411ddb074dbd65f1665cf', 0.6650375939849624),\n",
       " ('ee78cc1ca22411dd9b3d576115a846a7', 0.6263157894736843),\n",
       " ('ed58942aa22411dd96ff97a15c29d430', 0.6139097744360903),\n",
       " ('be2f1e669cc111dd9a50003048c0801e', 0.606390977443609),\n",
       " ('eefadd1aa22411ddb0fd7f1c9c809c0c', 0.5909774436090226),\n",
       " ('ecbfba0ca22411ddb71dfb65ad521832', 0.5642857142857143),\n",
       " ('ed6d581aa22411dd89878ff3d9a3a80d', 0.5545112781954887)]"
      ]
     },
     "execution_count": 26,
     "metadata": {},
     "output_type": "execute_result"
    }
   ],
   "source": [
    "deg_cent_sorted = sorted(deg_cent.items(), key=lambda x: x[1], reverse=True)\n",
    "deg_cent_sorted[:10]"
   ]
  },
  {
   "cell_type": "markdown",
   "metadata": {},
   "source": [
    "Degree centrality is defined as the number of ties a node has. It is a simple and easily computed centrality measure. For our network, a high degree means that a lot of users visited this location and at least another one. It also could mean that these users visited many other locations. This could be a famous location in a city (ex. London Big Ben), many people visit the city and many of its landmarks, but everyone goes for the famous one. "
   ]
  },
  {
   "cell_type": "markdown",
   "metadata": {},
   "source": [
    "Betweenness centrality"
   ]
  },
  {
   "cell_type": "code",
   "execution_count": 23,
   "metadata": {
    "collapsed": true
   },
   "outputs": [],
   "source": [
    "small_bet = nx.betweenness_centrality(foldedSmall, k=1000)"
   ]
  },
  {
   "cell_type": "code",
   "execution_count": 24,
   "metadata": {},
   "outputs": [
    {
     "data": {
      "text/plain": [
       "[('00000000000000000000000000000000', 0.10351528067242029),\n",
       " ('ee81ef22a22411ddb5e97f082c799f59', 0.04328849211279497),\n",
       " ('ede07eeea22411dda0ef53e233ec57ca', 0.03612522531994567),\n",
       " ('be2f1e669cc111dd9a50003048c0801e', 0.01717170571524445),\n",
       " ('ee8b1d0ea22411ddb074dbd65f1665cf', 0.014360279334246422),\n",
       " ('d12e8e8aa22411dd90196fa5c210e3cc', 0.01380931761833827),\n",
       " ('ee78cc1ca22411dd9b3d576115a846a7', 0.013268674843549207),\n",
       " ('ed6d581aa22411dd89878ff3d9a3a80d', 0.011876274968231413),\n",
       " ('ed58942aa22411dd96ff97a15c29d430', 0.011752271150497798),\n",
       " ('eefadd1aa22411ddb0fd7f1c9c809c0c', 0.011110267851108576)]"
      ]
     },
     "execution_count": 24,
     "metadata": {},
     "output_type": "execute_result"
    }
   ],
   "source": [
    "sorted(small_bet.items(), key=lambda x: x[1], reverse=True)[:10]"
   ]
  },
  {
   "cell_type": "markdown",
   "metadata": {
    "collapsed": true
   },
   "source": [
    "Betweenness centrality is a measure based on counting how many times a shortest path goes through a node. In our example, a high betweenness centrality for a node means that this location acts like some sort of a bridge. Many different locations have common users with this location, but might not have common users in betweeen themselves."
   ]
  },
  {
   "cell_type": "markdown",
   "metadata": {},
   "source": [
    "Closeness centrality"
   ]
  },
  {
   "cell_type": "code",
   "execution_count": 27,
   "metadata": {},
   "outputs": [
    {
     "data": {
      "text/plain": [
       "[('00000000000000000000000000000000', 0.8896321070234113),\n",
       " ('ee81ef22a22411ddb5e97f082c799f59', 0.8248062015503876),\n",
       " ('ede07eeea22411dda0ef53e233ec57ca', 0.7865168539325843),\n",
       " ('ee8b1d0ea22411ddb074dbd65f1665cf', 0.7490847648549704),\n",
       " ('ee78cc1ca22411dd9b3d576115a846a7', 0.7279693486590039),\n",
       " ('ed58942aa22411dd96ff97a15c29d430', 0.7212581344902386),\n",
       " ('be2f1e669cc111dd9a50003048c0801e', 0.7175613703803615),\n",
       " ('eefadd1aa22411ddb0fd7f1c9c809c0c', 0.7097118463180363),\n",
       " ('ecbfba0ca22411ddb71dfb65ad521832', 0.6965174129353234),\n",
       " ('ed6d581aa22411dd89878ff3d9a3a80d', 0.6918075422626788)]"
      ]
     },
     "execution_count": 27,
     "metadata": {},
     "output_type": "execute_result"
    }
   ],
   "source": [
    "close_cent = nx.closeness_centrality(foldedSmall)\n",
    "close_cent_sorted = sorted(close_cent.items(), key=lambda x: x[1], reverse=True)\n",
    "close_cent_sorted[:10]"
   ]
  },
  {
   "cell_type": "markdown",
   "metadata": {
    "collapsed": true
   },
   "source": [
    "Closeness centrality is defined as the average length of the shortest path between a node and all other nodes in a graph. In our network, a high closeness centrality means that this location is not \"far\" in terms of hops needed to visit other locations. Since one hop means that 2 locations have at least a common user who visited them, this location was visited by people who visited many different locations. This keeps the \"paths\" to other nodes shorter."
   ]
  },
  {
   "cell_type": "markdown",
   "metadata": {},
   "source": [
    "#### Entropy of Location Popularity Distribution\n",
    "\n",
    "How evenly distributed is the attention of brightkite users towards locations? The attention a location receives is measured by the number of distinct users who checked in at this loction. Compute the normalized entropy of the degree distribution. The degree of a location corresponds to the number of distinct users who checked in there.\n",
    "\n",
    "To that end, you want to have one vector where each element corresponds to a distinct location. The values for each element are then determined by the number of distinct users that have checked-in at that location. Then, calculate normalized entropy for this vector.\n",
    "\n",
    "Assume we ignore all locations where 0-1 different people checked in. That means we make the long tail of the degree distribution shorter. How would the entropy change? <font color=\"red\">(3 Points)</font>"
   ]
  },
  {
   "cell_type": "code",
   "execution_count": 28,
   "metadata": {},
   "outputs": [
    {
     "name": "stdout",
     "output_type": "stream",
     "text": [
      "Normalized entropy for the whole dataset is: 0.9663580645695315\n",
      "After removing locations with only one visit: 0.9390431297218919\n"
     ]
    }
   ],
   "source": [
    "from scipy.stats import entropy\n",
    "from math import log\n",
    "norm_entrp = entropy(degreesSortedList)/log(len(degreesSortedList))\n",
    "print(\"Normalized entropy for the whole dataset is: {}\".format(norm_entrp))\n",
    "\n",
    "degreesSortedListOverOne = [i[1] for i in degreesSorted if i[1]>1]\n",
    "norm_entrp_over_one = entropy(degreesSortedListOverOne)/log(len(degreesSortedListOverOne))\n",
    "print(\"After removing locations with only one visit: {}\".format(norm_entrp_over_one))"
   ]
  },
  {
   "cell_type": "markdown",
   "metadata": {},
   "source": [
    "After removing the locations that have a small number of visits, the entropy decreases, but only for a small amount. This could be expected, as removing the tail lowers inequality. Likewise removing the top 1 location would increase equality. Overall the number of unique users who checked in at a location is very unevenly distributed."
   ]
  },
  {
   "cell_type": "markdown",
   "metadata": {},
   "source": [
    "#### Describe Location Popularity Distribution\n",
    "\n",
    "In how many distinct locations did users check in on average in brightkite? \n",
    "Create a boxplot that shows the distribution of the number of distinct checkin-locations per user. What is the mean and the variance of this distribution? Compute X for the following statement: Half of the users checked in in more than X locations?  <font color=\"red\">(2 Points)</font>"
   ]
  },
  {
   "cell_type": "code",
   "execution_count": 29,
   "metadata": {
    "collapsed": true
   },
   "outputs": [],
   "source": [
    "grpUsr = checkIns.groupby('user')['locId'].nunique()"
   ]
  },
  {
   "cell_type": "code",
   "execution_count": 30,
   "metadata": {},
   "outputs": [
    {
     "name": "stdout",
     "output_type": "stream",
     "text": [
      "Mean of this distribution is at 20.93469633894876, and the variance is 2861.43277454921. \n",
      "Half of the users checked in more than 4.0 locations. Most of the users visited up to 15.0 locations.\n"
     ]
    }
   ],
   "source": [
    "stats = grpUsr.describe()\n",
    "print(\"Mean of this distribution is at {}, and the variance is {}. \\nHalf of the users checked in more than {} locations. \"\n",
    "      \"Most of the users visited up to {} locations.\"\n",
    "      .format(stats['mean'], stats['std']**2, stats['50%'], stats['75%']))"
   ]
  },
  {
   "cell_type": "code",
   "execution_count": 31,
   "metadata": {},
   "outputs": [
    {
     "data": {
      "image/png": "[encoded data removed]",
      "text/plain": [
       "<matplotlib.figure.Figure at 0x18300016f60>"
      ]
     },
     "metadata": {},
     "output_type": "display_data"
    }
   ],
   "source": [
    "fig = plt.figure(1, figsize=(9, 6))\n",
    "ax = fig.add_subplot(111)\n",
    "plt.boxplot(grpUsr, sym='')\n",
    "plt.ylabel(\"Number of distinct check in locations per user\")\n",
    "plt.title(\"Distribution of unique locations users checked in\")\n",
    "plt.show()"
   ]
  },
  {
   "cell_type": "markdown",
   "metadata": {},
   "source": [
    "From the box plot we can see that half of the users only checked in at up to 4 locations. We can also see that most of the users (75 percent) visited up to 15 locations. \n",
    "Important: Outliers are not displayed on this plot."
   ]
  },
  {
   "cell_type": "markdown",
   "metadata": {},
   "source": [
    "#### Describe Social Network\n",
    "\n",
    "Load the full Brightkite social network (loc-brightkite_edges.txt.gz). Describe the network.\n",
    "\n",
    "Some ideas on what you could report: What's the number of nodes, edges and average degree of a node?  What is the size of the largest maximal clique in the network? How well connected is the network? <font color=\"red\">(2 Points)</font>"
   ]
  },
  {
   "cell_type": "code",
   "execution_count": 32,
   "metadata": {
    "collapsed": true
   },
   "outputs": [],
   "source": [
    "br_network = nx.from_pandas_dataframe(edges, source='node1', target='node2')"
   ]
  },
  {
   "cell_type": "code",
   "execution_count": 33,
   "metadata": {},
   "outputs": [
    {
     "name": "stdout",
     "output_type": "stream",
     "text": [
      "Number of nodes is 58228, and number of edges is 214078. \n"
     ]
    }
   ],
   "source": [
    "print(\"Number of nodes is {}, and number of edges is {}. \".format(br_network.number_of_nodes(), br_network.number_of_edges()))"
   ]
  },
  {
   "cell_type": "code",
   "execution_count": 34,
   "metadata": {},
   "outputs": [
    {
     "name": "stdout",
     "output_type": "stream",
     "text": [
      "The average number of connections a user has is 7.353094731057223.\n"
     ]
    }
   ],
   "source": [
    "br_degrees = nx.degree(br_network)\n",
    "print(\"The average number of connections a user has is {}.\".format(np.mean(list(br_degrees.values()))))"
   ]
  },
  {
   "cell_type": "markdown",
   "metadata": {},
   "source": [
    "A maximal clique is a clique that cannot be extended by including one more adjecent node, meaning it is not a subset of a larger clique."
   ]
  },
  {
   "cell_type": "code",
   "execution_count": 35,
   "metadata": {},
   "outputs": [
    {
     "name": "stdout",
     "output_type": "stream",
     "text": [
      "The size of the largest maximal clique is <built-in function max>\n",
      "Nodes in this clique are [250, 10342, 6895, 10350, 2816, 10614, 2844, 2862, 10632, 2834, 10620, 10665, 10344, 10608, 10373, 10661, 2815, 10729, 10635, 10393, 10659, 2819, 2919, 10674, 2823, 10361, 6914, 10663, 10618, 10605, 10717, 10637, 10610, 6911, 6609, 10642, 2811]\n"
     ]
    }
   ],
   "source": [
    "maximal_cliques = nx.find_cliques(br_network)\n",
    "maximum = 0\n",
    "cliq = []\n",
    "for clique in maximal_cliques:\n",
    "    if(len(clique)>maximum):\n",
    "        maximum = len(clique)\n",
    "        cliq = clique\n",
    "print(\"The size of the largest maximal clique is {}\".format(max))\n",
    "print(\"Nodes in this clique are {}\".format(cliq))"
   ]
  },
  {
   "cell_type": "markdown",
   "metadata": {
    "collapsed": true
   },
   "source": [
    "### How well is the network connected?"
   ]
  },
  {
   "cell_type": "code",
   "execution_count": 36,
   "metadata": {},
   "outputs": [
    {
     "name": "stdout",
     "output_type": "stream",
     "text": [
      "Graph is connected?: False\n",
      "The number of connected components is: 547\n",
      "The size of the largest connected component is: 56739\n"
     ]
    }
   ],
   "source": [
    "print(\"Graph is connected?: {}\".format(nx.is_connected(br_network)))\n",
    "print(\"The number of connected components is: {}\".format(nx.number_connected_components(br_network)))\n",
    "print(\"The size of the largest connected component is: {}\".format(len(max(nx.connected_components(br_network), key=len))))"
   ]
  },
  {
   "cell_type": "markdown",
   "metadata": {},
   "source": [
    "#### How is the size of components distributed?"
   ]
  },
  {
   "cell_type": "code",
   "execution_count": 37,
   "metadata": {},
   "outputs": [
    {
     "name": "stdout",
     "output_type": "stream",
     "text": [
      "Top 10 largest components have these sizes: [56739, 49, 11, 11, 10, 10, 9, 8, 8, 7]\n",
      "We can see that we only have one significant component with most of the users, and many small isolated ones.\n",
      "The largest component contains 97.44 percentage of nodes.\n"
     ]
    }
   ],
   "source": [
    "comp_size = [len(x) for x in nx.connected_components(br_network)]\n",
    "comp_size = sorted(comp_size, reverse=True)\n",
    "print(\"Top 10 largest components have these sizes: {}\".format(comp_size[:10]))\n",
    "print(\"We can see that we only have one significant component with most of the users, and many small isolated ones.\")\n",
    "print(\"The largest component contains {0:.2f} percentage of nodes.\".format(comp_size[0]/br_network.number_of_nodes()*100))"
   ]
  },
  {
   "cell_type": "markdown",
   "metadata": {},
   "source": [
    "#### Node conectivity\n",
    "Node connectivity is equal to the minimum number of nodes that must be removed to disconnect a graph"
   ]
  },
  {
   "cell_type": "code",
   "execution_count": 38,
   "metadata": {
    "collapsed": true
   },
   "outputs": [],
   "source": [
    "# nx.node_connectivity(max(nx.connected_component_subgraphs(br_network), key=len))\n",
    "# Too hard to compute"
   ]
  },
  {
   "cell_type": "markdown",
   "metadata": {},
   "source": [
    "#### Draw Social Network\n",
    "\n",
    "Select the top location (i.e., the location where most distinct brightkite user checked in) and filter the brightkite social network (i.e., Brightkite_edges.txt) so that it only contains users (nodes) which checked in at the top location.\n",
    "Load this subpart of the social networks into python (using the NetworkX library)\n",
    "Plot the sub-network in an appealing way. <font color=\"red\">(3 Points)</font>"
   ]
  },
  {
   "cell_type": "code",
   "execution_count": 39,
   "metadata": {
    "collapsed": true
   },
   "outputs": [],
   "source": [
    "topLoc = grpLoc.index[0]\n",
    "been2TopLoc = checkIns[checkIns['locId']==topLoc].user.unique()\n",
    "viz_edges = edges[edges['node1'].isin(been2TopLoc) & edges['node2'].isin(been2TopLoc)]\n",
    "viz_edges = viz_edges.drop_duplicates()"
   ]
  },
  {
   "cell_type": "code",
   "execution_count": 40,
   "metadata": {},
   "outputs": [
    {
     "name": "stdout",
     "output_type": "stream",
     "text": [
      "Number of users who visited the top location: 3204\n"
     ]
    }
   ],
   "source": [
    "print(\"Number of users who visited the top location: {}\".format(len(been2TopLoc)))"
   ]
  },
  {
   "cell_type": "code",
   "execution_count": 41,
   "metadata": {
    "collapsed": true
   },
   "outputs": [],
   "source": [
    "viz_net = nx.from_pandas_dataframe(viz_edges, source='node1', target='node2')"
   ]
  },
  {
   "cell_type": "code",
   "execution_count": 42,
   "metadata": {},
   "outputs": [
    {
     "name": "stdout",
     "output_type": "stream",
     "text": [
      "Number of edges in the social network is 20096\n",
      "And the number of nodes is 2481\n"
     ]
    }
   ],
   "source": [
    "print(\"Number of edges in the social network is {}\\nAnd the number of nodes is {}\"\n",
    "      .format(viz_net.number_of_edges(),viz_net.number_of_nodes()))"
   ]
  },
  {
   "cell_type": "markdown",
   "metadata": {},
   "source": [
    "##### Since the largest connected component contains most of the nodes, it is used to display the network"
   ]
  },
  {
   "cell_type": "code",
   "execution_count": 43,
   "metadata": {},
   "outputs": [
    {
     "data": {
      "text/plain": [
       "2342"
      ]
     },
     "execution_count": 43,
     "metadata": {},
     "output_type": "execute_result"
    }
   ],
   "source": [
    "Gc = max(nx.connected_component_subgraphs(viz_net), key=len)\n",
    "Gc.number_of_nodes()"
   ]
  },
  {
   "cell_type": "code",
   "execution_count": 44,
   "metadata": {},
   "outputs": [
    {
     "data": {
      "image/png": "[encoded data removed]",
      "text/plain": [
       "<matplotlib.figure.Figure at 0x183387bfcf8>"
      ]
     },
     "metadata": {},
     "output_type": "display_data"
    }
   ],
   "source": [
    "nx.draw_networkx(Gc, nx.spring_layout(viz_net), with_labels=False, node_size=10,edge_color='r', node_color='b', node_shape='o',\n",
    "                linewidts=1.3, alpha=0.3, linewidths=1.5)\n",
    "plt.show()"
   ]
  }
 ],
 "metadata": {
  "anaconda-cloud": {},
  "css": [
   ""
  ],
  "kernelspec": {
   "display_name": "Python 3",
   "language": "python",
   "name": "python3"
  },
  "language_info": {
   "codemirror_mode": {
    "name": "ipython",
    "version": 3
   },
   "file_extension": ".py",
   "mimetype": "text/x-python",
   "name": "python",
   "nbconvert_exporter": "python",
   "pygments_lexer": "ipython3",
   "version": "3.6.1"
  }
 },
 "nbformat": 4,
 "nbformat_minor": 1
}
