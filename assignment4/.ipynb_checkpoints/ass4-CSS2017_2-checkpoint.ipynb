{
 "cells": [
  {
   "cell_type": "markdown",
   "metadata": {},
   "source": [
    "# Assignment 4 (15 points)\n",
    "\n",
    "Please, answer the question by entering runable python code into the cells. Add comments at the beginning of each cell which list the packages that need to be installed (e.g., pip install collections). Run the code so that the output is visible in the notbook before you submit. \n",
    "\n",
    "Use python 3.\n",
    "Submit the notebook (as .ipynb and .pdf) via email to clwagner@uni-koblenz.de (cc to wayne@uni-koblenz.de) until 5.7.2017 (midnight CET). \n",
    "Subject of email: \"CSS2017 Ass4\"\n",
    "Filename: firstname_lastname_ass4.ipynb\n",
    "\n"
   ]
  },
  {
   "cell_type": "markdown",
   "metadata": {},
   "source": [
    "\n",
    "### Simple Contagion: SIR Model (5 points)\n",
    "\n",
    "Create 3 different network topologies (checkout different network generators [1]) and spread a disease in these networks using the SIR model (which you have to implement yourself; dont use packages like nepidemix). Compare your results with the results from spreading the disease in a fully connected ndtwork.\n",
    "How do the different network topolgies impact the results?\n",
    "\n",
    "At the beginning all nodes are susceptible and one randomly picked node is infected.\n",
    "Choose different infection probabilities and death probabilities.\n",
    "Plot the proportion of nodes in each state after k steps. \n",
    "\n",
    "\n",
    "[1] https://networkx.github.io/documentation/development/reference/generators.html\n",
    "\n"
   ]
  },
  {
   "cell_type": "code",
   "execution_count": 1,
   "metadata": {
    "collapsed": true
   },
   "outputs": [],
   "source": [
    "# %pylab inline \n",
    "\n",
    "import matplotlib.pyplot as plt\n",
    "import matplotlib.colors as colors\n",
    "import matplotlib.cm as cmx\n",
    "\n",
    "import networkx as NX\n",
    "import random as RD\n",
    "\n",
    "from numpy.random import choice\n",
    "\n",
    "import time\n",
    "from collections import defaultdict\n",
    "import copy\n",
    "\n",
    "\n",
    "def init_fully_connected_network(n): \n",
    "    global g\n",
    "    g = NX.random_regular_graph(n-1, n) \n",
    "    init_network_state()\n",
    "    \n",
    "def init_small_world(n, k, p): \n",
    "    global g\n",
    "    g = NX.watts_strogatz_graph(n, k, p) \n",
    "    init_network_state()\n",
    "       \n",
    "def init_random_network(n, p): \n",
    "    global g \n",
    "    # n Num of nodes, p  Probability for edge creation.\n",
    "    g = NX.erdos_renyi_graph(n, p)\n",
    "    init_network_state()\n",
    "\n",
    "def init_network_state():\n",
    "    global g\n",
    "    # Set up default values for attributes\n",
    "    for nd in g.nodes_iter():\n",
    "        g.node[nd]['state'] = \"susceptible\"\n",
    "\n",
    "    # select one node randomly and infect it    \n",
    "    random_node_id = RD.choice(g.nodes())\n",
    "    g.node[random_node_id][\"state\"] = \"infected\"\n",
    "    g.node[random_node_id][\"days\"] = beta\n",
    "  \n",
    "    \n",
    "\n",
    "\n",
    "def draw():\n",
    "    #PL.cla()\n",
    "    global g, positions\n",
    "    colors = defaultdict(int)\n",
    "    for nd in g.nodes():\n",
    "        if g.node[nd][\"state\"] == \"infected\":\n",
    "            colors[nd] = \"red\"\n",
    "        elif g.node[nd][\"state\"] == \"recovered\":\n",
    "            colors[nd] = \"green\"\n",
    "        else:                       # Susceptible\n",
    "            colors[nd] = \"blue\"\n",
    "            \n",
    "    plt.figure()\n",
    "    NX.draw_networkx(g, pos=None, arrows=False, with_labels=False, node_color=list(colors.values()), node_size=20, width=0.6)\n",
    "    plt.show()\n",
    "\n",
    "alpha = 0.01\n",
    "beta = 0.1\n",
    "\n",
    "infected = 1\n",
    "susceptible = 0\n",
    "recovered = 0\n",
    "\n",
    "    \n",
    "def stepSIR():\n",
    "    global g\n",
    "    global infected, susceptible, recovered\n",
    "    for node in g.nodes():\n",
    "        if g.node[node][\"state\"] == \"infected\":\n",
    "            if g.node[node]['days'] >= 0.91:\n",
    "                g.node[node][\"state\"] = \"recovered\"\n",
    "                infected-=1\n",
    "                recovered+=1\n",
    "            else:\n",
    "                g.node[node]['days'] += beta  \n",
    "                for nod in g.neighbors(node):\n",
    "                    if g.node[nod]['state'] == \"susceptible\" and infect():\n",
    "                        g.node[nod]['state'] = \"infected\"\n",
    "                        g.node[nod]['days'] = beta\n",
    "                        infected+=1\n",
    "                        susceptible-=1\n",
    "                        \n",
    "def runSIR():\n",
    "    global g\n",
    "    global infected, susceptible, recovered\n",
    "    infected = 1\n",
    "    susceptible = len(g.nodes())\n",
    "    recovered = 0\n",
    "    num_iter = 0\n",
    "    infected_ = []\n",
    "    susceptible_ = []\n",
    "    recovered_ = []\n",
    "    while(infected>0 and susceptible>0 and recovered<len(g.nodes())):\n",
    "        stepSIR()\n",
    "        infected_.append(infected)\n",
    "        susceptible_.append(susceptible)\n",
    "        recovered_.append(recovered)\n",
    "#         draw()\n",
    "#         time.sleep(1)\n",
    "        num_iter+=1\n",
    "    print(infected)\n",
    "    print(susceptible)\n",
    "    print(recovered)\n",
    "    print(num_iter)"
   ]
  },
  {
   "cell_type": "code",
   "execution_count": null,
   "metadata": {
    "collapsed": true
   },
   "outputs": [],
   "source": [
    "def infect():\n",
    "    draw = choice([0, 1], 1, p=[1-alpha, alpha])\n",
    "    return draw[0]"
   ]
  },
  {
   "cell_type": "code",
   "execution_count": null,
   "metadata": {
    "collapsed": true
   },
   "outputs": [],
   "source": [
    "init_fully_connected_network(100)"
   ]
  },
  {
   "cell_type": "code",
   "execution_count": null,
   "metadata": {
    "collapsed": true
   },
   "outputs": [],
   "source": [
    "runSIR()\n",
    "draw()"
   ]
  },
  {
   "cell_type": "code",
   "execution_count": null,
   "metadata": {
    "collapsed": true
   },
   "outputs": [],
   "source": [
    "init_random_network(1000, 0.3)"
   ]
  },
  {
   "cell_type": "code",
   "execution_count": null,
   "metadata": {
    "collapsed": true
   },
   "outputs": [],
   "source": [
    "init_small_world(100, 10, 0.4)"
   ]
  },
  {
   "cell_type": "markdown",
   "metadata": {},
   "source": [
    "\n",
    "### Complex Contagion: Granovetter's Linear Treshold Model (5 points)\n",
    "\n",
    "\n",
    "Implement Granovetter's Linear Treshold Model. Assume that the thresholds of people are normally distributed. Use you code to explore complex contagion in different network topologies (look at network generators [1]). \n",
    "Create at least 3 different network topologies. \n",
    "Interpret and discuss your results.\n",
    "\n",
    "\n",
    "[1] https://networkx.github.io/documentation/development/reference/generators.html\n"
   ]
  },
  {
   "cell_type": "markdown",
   "metadata": {},
   "source": [
    "### Axelrod Model (5 points)\n",
    "\n",
    "Implement Axelrods  model of cultural diffusion.\n",
    "Create a network and randomly assign a cultural vector to each node.\n",
    "Implement the dynamic process as describe in: http://www-personal.umich.edu/~axe/research/Dissemination.pdf\n",
    "Try different number of features and traits per feature.\n",
    "Make a plot that describes the macro-state of the system (e.g., depict the number of groups that share a culture. At the beginning each node has it's own culture')?\n"
   ]
  }
 ],
 "metadata": {
  "kernelspec": {
   "display_name": "Python 3",
   "language": "python",
   "name": "python3"
  },
  "language_info": {
   "codemirror_mode": {
    "name": "ipython",
    "version": 3
   },
   "file_extension": ".py",
   "mimetype": "text/x-python",
   "name": "python",
   "nbconvert_exporter": "python",
   "pygments_lexer": "ipython3",
   "version": "3.6.1"
  }
 },
 "nbformat": 4,
 "nbformat_minor": 1
}
